{
  "nbformat": 4,
  "nbformat_minor": 0,
  "metadata": {
    "colab": {
      "provenance": [],
      "collapsed_sections": []
    },
    "kernelspec": {
      "name": "python3",
      "display_name": "Python 3"
    },
    "language_info": {
      "name": "python"
    }
  },
  "cells": [
    {
      "cell_type": "markdown",
      "source": [
        "# Basic Python"
      ],
      "metadata": {
        "id": "McSxJAwcOdZ1"
      }
    },
    {
      "cell_type": "markdown",
      "source": [
        "## 1. Split this string"
      ],
      "metadata": {
        "id": "CU48hgo4Owz5"
      }
    },
    {
      "cell_type": "code",
      "source": [
        "s = \"Hi there Sam!\""
      ],
      "metadata": {
        "id": "s07c7JK7Oqt-"
      },
      "execution_count": 2,
      "outputs": []
    },
    {
      "cell_type": "code",
      "source": [
        "x = s.split()\n",
        "\n",
        "print(x) "
      ],
      "metadata": {
        "id": "6mGVa3SQYLkb",
        "colab": {
          "base_uri": "https://localhost:8080/"
        },
        "outputId": "620c01a5-7bbf-4106-e1fb-ee9ab4490b83"
      },
      "execution_count": 3,
      "outputs": [
        {
          "output_type": "stream",
          "name": "stdout",
          "text": [
            "['Hi', 'there', 'Sam!']\n"
          ]
        }
      ]
    },
    {
      "cell_type": "markdown",
      "source": [
        "## 2. Use .format() to print the following string. \n",
        "\n",
        "### Output should be: The diameter of Earth is 12742 kilometers."
      ],
      "metadata": {
        "id": "GH1QBn8HP375"
      }
    },
    {
      "cell_type": "code",
      "source": [
        "planet = \"Earth\"\n",
        "diameter = 12742"
      ],
      "metadata": {
        "id": "_ZHoml3kPqic"
      },
      "execution_count": 9,
      "outputs": []
    },
    {
      "cell_type": "code",
      "source": [
        "print( 'The diameter of {} is {} kilometers.' .format(planet,diameter));"
      ],
      "metadata": {
        "id": "HyRyJv6CYPb4",
        "colab": {
          "base_uri": "https://localhost:8080/"
        },
        "outputId": "777a61d8-964d-4e7a-9f42-94237a1b20a5"
      },
      "execution_count": 10,
      "outputs": [
        {
          "output_type": "stream",
          "name": "stdout",
          "text": [
            "The diameter of Earth is 12742 kilometers.\n"
          ]
        }
      ]
    },
    {
      "cell_type": "markdown",
      "source": [
        "## 3. In this nest dictionary grab the word \"hello\""
      ],
      "metadata": {
        "id": "KE74ZEwkRExZ"
      }
    },
    {
      "cell_type": "code",
      "source": [
        "d = {'k1':[1,2,3,{'tricky':['oh','man','inception',{'target':[1,2,3,'hello']}]}]}"
      ],
      "metadata": {
        "id": "fcVwbCc1QrQI"
      },
      "execution_count": 5,
      "outputs": []
    },
    {
      "cell_type": "code",
      "source": [
        "d = {'k1':[1,2,3,{'tricky':['oh','man','inception',{'target':[1,2,3,'hello']}]}]}\n",
        "print(d['k1'][3][\"tricky\"][3]['target'][3])"
      ],
      "metadata": {
        "id": "MvbkMZpXYRaw",
        "colab": {
          "base_uri": "https://localhost:8080/"
        },
        "outputId": "e914a26a-312e-4033-ea09-ef7f633a2722"
      },
      "execution_count": 13,
      "outputs": [
        {
          "output_type": "stream",
          "name": "stdout",
          "text": [
            "hello\n"
          ]
        }
      ]
    },
    {
      "cell_type": "markdown",
      "source": [
        "# Numpy"
      ],
      "metadata": {
        "id": "bw0vVp-9ddjv"
      }
    },
    {
      "cell_type": "code",
      "source": [
        "import numpy as np"
      ],
      "metadata": {
        "id": "LLiE_TYrhA1O"
      },
      "execution_count": 15,
      "outputs": []
    },
    {
      "cell_type": "markdown",
      "source": [
        "## 4.1 Create an array of 10 zeros? \n",
        "## 4.2 Create an array of 10 fives?"
      ],
      "metadata": {
        "id": "wOg8hinbgx30"
      }
    },
    {
      "cell_type": "code",
      "source": [
        "array=np.zeros(10)\n",
        "print(\"An array of 10 zeros:\")\n",
        "print(array)"
      ],
      "metadata": {
        "id": "NHrirmgCYXvU",
        "colab": {
          "base_uri": "https://localhost:8080/"
        },
        "outputId": "44a47d42-6eb6-4412-c81e-50f222d73459"
      },
      "execution_count": 17,
      "outputs": [
        {
          "output_type": "stream",
          "name": "stdout",
          "text": [
            "An array of 10 zeros:\n",
            "[0. 0. 0. 0. 0. 0. 0. 0. 0. 0.]\n"
          ]
        }
      ]
    },
    {
      "cell_type": "code",
      "source": [
        "array=np.ones(10)*5\n",
        "print(\"An array of 10 fives:\")\n",
        "print(array)"
      ],
      "metadata": {
        "id": "e4005lsTYXxx",
        "colab": {
          "base_uri": "https://localhost:8080/"
        },
        "outputId": "48b973d2-7507-4262-865b-53f48d2277d3"
      },
      "execution_count": 18,
      "outputs": [
        {
          "output_type": "stream",
          "name": "stdout",
          "text": [
            "An array of 10 fives:\n",
            "[5. 5. 5. 5. 5. 5. 5. 5. 5. 5.]\n"
          ]
        }
      ]
    },
    {
      "cell_type": "markdown",
      "source": [
        "## 5. Create an array of all the even integers from 20 to 35"
      ],
      "metadata": {
        "id": "gZHHDUBvrMX4"
      }
    },
    {
      "cell_type": "code",
      "source": [
        "array=np.arange(20,35,2)\n",
        "print(\"Array of all the even integers from 30 to 70\")\n",
        "print(array) "
      ],
      "metadata": {
        "id": "oAI2tbU2Yag-",
        "colab": {
          "base_uri": "https://localhost:8080/"
        },
        "outputId": "00ecb1b7-48d1-4b65-b866-5945d64c195a"
      },
      "execution_count": 19,
      "outputs": [
        {
          "output_type": "stream",
          "name": "stdout",
          "text": [
            "Array of all the even integers from 30 to 70\n",
            "[20 22 24 26 28 30 32 34]\n"
          ]
        }
      ]
    },
    {
      "cell_type": "markdown",
      "source": [
        "## 6. Create a 3x3 matrix with values ranging from 0 to 8"
      ],
      "metadata": {
        "id": "NaOM308NsRpZ"
      }
    },
    {
      "cell_type": "code",
      "source": [
        "import numpy as np\n",
        "x =  np.arange(0, 9).reshape(3,3)\n",
        "print(x)"
      ],
      "metadata": {
        "id": "tOlEVH7BYceE",
        "colab": {
          "base_uri": "https://localhost:8080/"
        },
        "outputId": "5c1300b6-9cb4-4952-8256-8a973a3409b7"
      },
      "execution_count": 21,
      "outputs": [
        {
          "output_type": "stream",
          "name": "stdout",
          "text": [
            "[[0 1 2]\n",
            " [3 4 5]\n",
            " [6 7 8]]\n"
          ]
        }
      ]
    },
    {
      "cell_type": "markdown",
      "source": [
        "## 7. Concatenate a and b \n",
        "## a = np.array([1, 2, 3]), b = np.array([4, 5, 6])"
      ],
      "metadata": {
        "id": "hQ0dnhAQuU_p"
      }
    },
    {
      "cell_type": "code",
      "source": [
        "a = np.array([1, 2, 3])\n",
        "b = np.array([4, 5, 6])\n",
        "con=np.concatenate((a,b))\n",
        "print(con)"
      ],
      "metadata": {
        "id": "rAPSw97aYfE0",
        "colab": {
          "base_uri": "https://localhost:8080/"
        },
        "outputId": "f2921cd1-2283-4b32-eb63-189c00f2dba4"
      },
      "execution_count": 22,
      "outputs": [
        {
          "output_type": "stream",
          "name": "stdout",
          "text": [
            "[1 2 3 4 5 6]\n"
          ]
        }
      ]
    },
    {
      "cell_type": "markdown",
      "source": [
        "# Pandas"
      ],
      "metadata": {
        "id": "dlPEY9DRwZga"
      }
    },
    {
      "cell_type": "markdown",
      "source": [
        "## 8. Create a dataframe with 3 rows and 2 columns"
      ],
      "metadata": {
        "id": "ijoYW51zwr87"
      }
    },
    {
      "cell_type": "code",
      "source": [
        "import pandas as pd\n"
      ],
      "metadata": {
        "id": "T5OxJRZ8uvR7"
      },
      "execution_count": 23,
      "outputs": []
    },
    {
      "cell_type": "code",
      "source": [
        "data = [['tom', 10], ['nick', 15], ['juli', 14]]\n",
        "df = pd.DataFrame(data, columns=['Name', 'Age'])\n",
        "df"
      ],
      "metadata": {
        "id": "xNpI_XXoYhs0",
        "colab": {
          "base_uri": "https://localhost:8080/",
          "height": 143
        },
        "outputId": "58dd3f79-6fff-423b-f2a5-11a4aacff3bb"
      },
      "execution_count": 24,
      "outputs": [
        {
          "output_type": "execute_result",
          "data": {
            "text/plain": [
              "   Name  Age\n",
              "0   tom   10\n",
              "1  nick   15\n",
              "2  juli   14"
            ],
            "text/html": [
              "\n",
              "  <div id=\"df-f0ad7d96-b283-4d95-8fce-5a071fb5e1ce\">\n",
              "    <div class=\"colab-df-container\">\n",
              "      <div>\n",
              "<style scoped>\n",
              "    .dataframe tbody tr th:only-of-type {\n",
              "        vertical-align: middle;\n",
              "    }\n",
              "\n",
              "    .dataframe tbody tr th {\n",
              "        vertical-align: top;\n",
              "    }\n",
              "\n",
              "    .dataframe thead th {\n",
              "        text-align: right;\n",
              "    }\n",
              "</style>\n",
              "<table border=\"1\" class=\"dataframe\">\n",
              "  <thead>\n",
              "    <tr style=\"text-align: right;\">\n",
              "      <th></th>\n",
              "      <th>Name</th>\n",
              "      <th>Age</th>\n",
              "    </tr>\n",
              "  </thead>\n",
              "  <tbody>\n",
              "    <tr>\n",
              "      <th>0</th>\n",
              "      <td>tom</td>\n",
              "      <td>10</td>\n",
              "    </tr>\n",
              "    <tr>\n",
              "      <th>1</th>\n",
              "      <td>nick</td>\n",
              "      <td>15</td>\n",
              "    </tr>\n",
              "    <tr>\n",
              "      <th>2</th>\n",
              "      <td>juli</td>\n",
              "      <td>14</td>\n",
              "    </tr>\n",
              "  </tbody>\n",
              "</table>\n",
              "</div>\n",
              "      <button class=\"colab-df-convert\" onclick=\"convertToInteractive('df-f0ad7d96-b283-4d95-8fce-5a071fb5e1ce')\"\n",
              "              title=\"Convert this dataframe to an interactive table.\"\n",
              "              style=\"display:none;\">\n",
              "        \n",
              "  <svg xmlns=\"http://www.w3.org/2000/svg\" height=\"24px\"viewBox=\"0 0 24 24\"\n",
              "       width=\"24px\">\n",
              "    <path d=\"M0 0h24v24H0V0z\" fill=\"none\"/>\n",
              "    <path d=\"M18.56 5.44l.94 2.06.94-2.06 2.06-.94-2.06-.94-.94-2.06-.94 2.06-2.06.94zm-11 1L8.5 8.5l.94-2.06 2.06-.94-2.06-.94L8.5 2.5l-.94 2.06-2.06.94zm10 10l.94 2.06.94-2.06 2.06-.94-2.06-.94-.94-2.06-.94 2.06-2.06.94z\"/><path d=\"M17.41 7.96l-1.37-1.37c-.4-.4-.92-.59-1.43-.59-.52 0-1.04.2-1.43.59L10.3 9.45l-7.72 7.72c-.78.78-.78 2.05 0 2.83L4 21.41c.39.39.9.59 1.41.59.51 0 1.02-.2 1.41-.59l7.78-7.78 2.81-2.81c.8-.78.8-2.07 0-2.86zM5.41 20L4 18.59l7.72-7.72 1.47 1.35L5.41 20z\"/>\n",
              "  </svg>\n",
              "      </button>\n",
              "      \n",
              "  <style>\n",
              "    .colab-df-container {\n",
              "      display:flex;\n",
              "      flex-wrap:wrap;\n",
              "      gap: 12px;\n",
              "    }\n",
              "\n",
              "    .colab-df-convert {\n",
              "      background-color: #E8F0FE;\n",
              "      border: none;\n",
              "      border-radius: 50%;\n",
              "      cursor: pointer;\n",
              "      display: none;\n",
              "      fill: #1967D2;\n",
              "      height: 32px;\n",
              "      padding: 0 0 0 0;\n",
              "      width: 32px;\n",
              "    }\n",
              "\n",
              "    .colab-df-convert:hover {\n",
              "      background-color: #E2EBFA;\n",
              "      box-shadow: 0px 1px 2px rgba(60, 64, 67, 0.3), 0px 1px 3px 1px rgba(60, 64, 67, 0.15);\n",
              "      fill: #174EA6;\n",
              "    }\n",
              "\n",
              "    [theme=dark] .colab-df-convert {\n",
              "      background-color: #3B4455;\n",
              "      fill: #D2E3FC;\n",
              "    }\n",
              "\n",
              "    [theme=dark] .colab-df-convert:hover {\n",
              "      background-color: #434B5C;\n",
              "      box-shadow: 0px 1px 3px 1px rgba(0, 0, 0, 0.15);\n",
              "      filter: drop-shadow(0px 1px 2px rgba(0, 0, 0, 0.3));\n",
              "      fill: #FFFFFF;\n",
              "    }\n",
              "  </style>\n",
              "\n",
              "      <script>\n",
              "        const buttonEl =\n",
              "          document.querySelector('#df-f0ad7d96-b283-4d95-8fce-5a071fb5e1ce button.colab-df-convert');\n",
              "        buttonEl.style.display =\n",
              "          google.colab.kernel.accessAllowed ? 'block' : 'none';\n",
              "\n",
              "        async function convertToInteractive(key) {\n",
              "          const element = document.querySelector('#df-f0ad7d96-b283-4d95-8fce-5a071fb5e1ce');\n",
              "          const dataTable =\n",
              "            await google.colab.kernel.invokeFunction('convertToInteractive',\n",
              "                                                     [key], {});\n",
              "          if (!dataTable) return;\n",
              "\n",
              "          const docLinkHtml = 'Like what you see? Visit the ' +\n",
              "            '<a target=\"_blank\" href=https://colab.research.google.com/notebooks/data_table.ipynb>data table notebook</a>'\n",
              "            + ' to learn more about interactive tables.';\n",
              "          element.innerHTML = '';\n",
              "          dataTable['output_type'] = 'display_data';\n",
              "          await google.colab.output.renderOutput(dataTable, element);\n",
              "          const docLink = document.createElement('div');\n",
              "          docLink.innerHTML = docLinkHtml;\n",
              "          element.appendChild(docLink);\n",
              "        }\n",
              "      </script>\n",
              "    </div>\n",
              "  </div>\n",
              "  "
            ]
          },
          "metadata": {},
          "execution_count": 24
        }
      ]
    },
    {
      "cell_type": "markdown",
      "source": [
        "**9**. Generate the *series* of dates from 1st Jan, 2023 to 10th Feb, 2023"
      ],
      "metadata": {
        "id": "UXSmdNclyJQD"
      }
    },
    {
      "cell_type": "code",
      "source": [
        "from datetime import datetime\n",
        "\n",
        "pd.date_range(end = datetime.today(), periods = 100).to_pydatetime().tolist()\n",
        "\n",
        "\n",
        "\n",
        "pd.date_range(start=\"01-01-2023\",end=\"10-02-2023\").to_pydatetime().tolist()"
      ],
      "metadata": {
        "id": "dgyC0JhVYl4F",
        "colab": {
          "base_uri": "https://localhost:8080/"
        },
        "outputId": "d3d0469b-f126-427e-ef1a-7025e2eebfb1"
      },
      "execution_count": 25,
      "outputs": [
        {
          "output_type": "execute_result",
          "data": {
            "text/plain": [
              "[datetime.datetime(2023, 1, 1, 0, 0),\n",
              " datetime.datetime(2023, 1, 2, 0, 0),\n",
              " datetime.datetime(2023, 1, 3, 0, 0),\n",
              " datetime.datetime(2023, 1, 4, 0, 0),\n",
              " datetime.datetime(2023, 1, 5, 0, 0),\n",
              " datetime.datetime(2023, 1, 6, 0, 0),\n",
              " datetime.datetime(2023, 1, 7, 0, 0),\n",
              " datetime.datetime(2023, 1, 8, 0, 0),\n",
              " datetime.datetime(2023, 1, 9, 0, 0),\n",
              " datetime.datetime(2023, 1, 10, 0, 0),\n",
              " datetime.datetime(2023, 1, 11, 0, 0),\n",
              " datetime.datetime(2023, 1, 12, 0, 0),\n",
              " datetime.datetime(2023, 1, 13, 0, 0),\n",
              " datetime.datetime(2023, 1, 14, 0, 0),\n",
              " datetime.datetime(2023, 1, 15, 0, 0),\n",
              " datetime.datetime(2023, 1, 16, 0, 0),\n",
              " datetime.datetime(2023, 1, 17, 0, 0),\n",
              " datetime.datetime(2023, 1, 18, 0, 0),\n",
              " datetime.datetime(2023, 1, 19, 0, 0),\n",
              " datetime.datetime(2023, 1, 20, 0, 0),\n",
              " datetime.datetime(2023, 1, 21, 0, 0),\n",
              " datetime.datetime(2023, 1, 22, 0, 0),\n",
              " datetime.datetime(2023, 1, 23, 0, 0),\n",
              " datetime.datetime(2023, 1, 24, 0, 0),\n",
              " datetime.datetime(2023, 1, 25, 0, 0),\n",
              " datetime.datetime(2023, 1, 26, 0, 0),\n",
              " datetime.datetime(2023, 1, 27, 0, 0),\n",
              " datetime.datetime(2023, 1, 28, 0, 0),\n",
              " datetime.datetime(2023, 1, 29, 0, 0),\n",
              " datetime.datetime(2023, 1, 30, 0, 0),\n",
              " datetime.datetime(2023, 1, 31, 0, 0),\n",
              " datetime.datetime(2023, 2, 1, 0, 0),\n",
              " datetime.datetime(2023, 2, 2, 0, 0),\n",
              " datetime.datetime(2023, 2, 3, 0, 0),\n",
              " datetime.datetime(2023, 2, 4, 0, 0),\n",
              " datetime.datetime(2023, 2, 5, 0, 0),\n",
              " datetime.datetime(2023, 2, 6, 0, 0),\n",
              " datetime.datetime(2023, 2, 7, 0, 0),\n",
              " datetime.datetime(2023, 2, 8, 0, 0),\n",
              " datetime.datetime(2023, 2, 9, 0, 0),\n",
              " datetime.datetime(2023, 2, 10, 0, 0),\n",
              " datetime.datetime(2023, 2, 11, 0, 0),\n",
              " datetime.datetime(2023, 2, 12, 0, 0),\n",
              " datetime.datetime(2023, 2, 13, 0, 0),\n",
              " datetime.datetime(2023, 2, 14, 0, 0),\n",
              " datetime.datetime(2023, 2, 15, 0, 0),\n",
              " datetime.datetime(2023, 2, 16, 0, 0),\n",
              " datetime.datetime(2023, 2, 17, 0, 0),\n",
              " datetime.datetime(2023, 2, 18, 0, 0),\n",
              " datetime.datetime(2023, 2, 19, 0, 0),\n",
              " datetime.datetime(2023, 2, 20, 0, 0),\n",
              " datetime.datetime(2023, 2, 21, 0, 0),\n",
              " datetime.datetime(2023, 2, 22, 0, 0),\n",
              " datetime.datetime(2023, 2, 23, 0, 0),\n",
              " datetime.datetime(2023, 2, 24, 0, 0),\n",
              " datetime.datetime(2023, 2, 25, 0, 0),\n",
              " datetime.datetime(2023, 2, 26, 0, 0),\n",
              " datetime.datetime(2023, 2, 27, 0, 0),\n",
              " datetime.datetime(2023, 2, 28, 0, 0),\n",
              " datetime.datetime(2023, 3, 1, 0, 0),\n",
              " datetime.datetime(2023, 3, 2, 0, 0),\n",
              " datetime.datetime(2023, 3, 3, 0, 0),\n",
              " datetime.datetime(2023, 3, 4, 0, 0),\n",
              " datetime.datetime(2023, 3, 5, 0, 0),\n",
              " datetime.datetime(2023, 3, 6, 0, 0),\n",
              " datetime.datetime(2023, 3, 7, 0, 0),\n",
              " datetime.datetime(2023, 3, 8, 0, 0),\n",
              " datetime.datetime(2023, 3, 9, 0, 0),\n",
              " datetime.datetime(2023, 3, 10, 0, 0),\n",
              " datetime.datetime(2023, 3, 11, 0, 0),\n",
              " datetime.datetime(2023, 3, 12, 0, 0),\n",
              " datetime.datetime(2023, 3, 13, 0, 0),\n",
              " datetime.datetime(2023, 3, 14, 0, 0),\n",
              " datetime.datetime(2023, 3, 15, 0, 0),\n",
              " datetime.datetime(2023, 3, 16, 0, 0),\n",
              " datetime.datetime(2023, 3, 17, 0, 0),\n",
              " datetime.datetime(2023, 3, 18, 0, 0),\n",
              " datetime.datetime(2023, 3, 19, 0, 0),\n",
              " datetime.datetime(2023, 3, 20, 0, 0),\n",
              " datetime.datetime(2023, 3, 21, 0, 0),\n",
              " datetime.datetime(2023, 3, 22, 0, 0),\n",
              " datetime.datetime(2023, 3, 23, 0, 0),\n",
              " datetime.datetime(2023, 3, 24, 0, 0),\n",
              " datetime.datetime(2023, 3, 25, 0, 0),\n",
              " datetime.datetime(2023, 3, 26, 0, 0),\n",
              " datetime.datetime(2023, 3, 27, 0, 0),\n",
              " datetime.datetime(2023, 3, 28, 0, 0),\n",
              " datetime.datetime(2023, 3, 29, 0, 0),\n",
              " datetime.datetime(2023, 3, 30, 0, 0),\n",
              " datetime.datetime(2023, 3, 31, 0, 0),\n",
              " datetime.datetime(2023, 4, 1, 0, 0),\n",
              " datetime.datetime(2023, 4, 2, 0, 0),\n",
              " datetime.datetime(2023, 4, 3, 0, 0),\n",
              " datetime.datetime(2023, 4, 4, 0, 0),\n",
              " datetime.datetime(2023, 4, 5, 0, 0),\n",
              " datetime.datetime(2023, 4, 6, 0, 0),\n",
              " datetime.datetime(2023, 4, 7, 0, 0),\n",
              " datetime.datetime(2023, 4, 8, 0, 0),\n",
              " datetime.datetime(2023, 4, 9, 0, 0),\n",
              " datetime.datetime(2023, 4, 10, 0, 0),\n",
              " datetime.datetime(2023, 4, 11, 0, 0),\n",
              " datetime.datetime(2023, 4, 12, 0, 0),\n",
              " datetime.datetime(2023, 4, 13, 0, 0),\n",
              " datetime.datetime(2023, 4, 14, 0, 0),\n",
              " datetime.datetime(2023, 4, 15, 0, 0),\n",
              " datetime.datetime(2023, 4, 16, 0, 0),\n",
              " datetime.datetime(2023, 4, 17, 0, 0),\n",
              " datetime.datetime(2023, 4, 18, 0, 0),\n",
              " datetime.datetime(2023, 4, 19, 0, 0),\n",
              " datetime.datetime(2023, 4, 20, 0, 0),\n",
              " datetime.datetime(2023, 4, 21, 0, 0),\n",
              " datetime.datetime(2023, 4, 22, 0, 0),\n",
              " datetime.datetime(2023, 4, 23, 0, 0),\n",
              " datetime.datetime(2023, 4, 24, 0, 0),\n",
              " datetime.datetime(2023, 4, 25, 0, 0),\n",
              " datetime.datetime(2023, 4, 26, 0, 0),\n",
              " datetime.datetime(2023, 4, 27, 0, 0),\n",
              " datetime.datetime(2023, 4, 28, 0, 0),\n",
              " datetime.datetime(2023, 4, 29, 0, 0),\n",
              " datetime.datetime(2023, 4, 30, 0, 0),\n",
              " datetime.datetime(2023, 5, 1, 0, 0),\n",
              " datetime.datetime(2023, 5, 2, 0, 0),\n",
              " datetime.datetime(2023, 5, 3, 0, 0),\n",
              " datetime.datetime(2023, 5, 4, 0, 0),\n",
              " datetime.datetime(2023, 5, 5, 0, 0),\n",
              " datetime.datetime(2023, 5, 6, 0, 0),\n",
              " datetime.datetime(2023, 5, 7, 0, 0),\n",
              " datetime.datetime(2023, 5, 8, 0, 0),\n",
              " datetime.datetime(2023, 5, 9, 0, 0),\n",
              " datetime.datetime(2023, 5, 10, 0, 0),\n",
              " datetime.datetime(2023, 5, 11, 0, 0),\n",
              " datetime.datetime(2023, 5, 12, 0, 0),\n",
              " datetime.datetime(2023, 5, 13, 0, 0),\n",
              " datetime.datetime(2023, 5, 14, 0, 0),\n",
              " datetime.datetime(2023, 5, 15, 0, 0),\n",
              " datetime.datetime(2023, 5, 16, 0, 0),\n",
              " datetime.datetime(2023, 5, 17, 0, 0),\n",
              " datetime.datetime(2023, 5, 18, 0, 0),\n",
              " datetime.datetime(2023, 5, 19, 0, 0),\n",
              " datetime.datetime(2023, 5, 20, 0, 0),\n",
              " datetime.datetime(2023, 5, 21, 0, 0),\n",
              " datetime.datetime(2023, 5, 22, 0, 0),\n",
              " datetime.datetime(2023, 5, 23, 0, 0),\n",
              " datetime.datetime(2023, 5, 24, 0, 0),\n",
              " datetime.datetime(2023, 5, 25, 0, 0),\n",
              " datetime.datetime(2023, 5, 26, 0, 0),\n",
              " datetime.datetime(2023, 5, 27, 0, 0),\n",
              " datetime.datetime(2023, 5, 28, 0, 0),\n",
              " datetime.datetime(2023, 5, 29, 0, 0),\n",
              " datetime.datetime(2023, 5, 30, 0, 0),\n",
              " datetime.datetime(2023, 5, 31, 0, 0),\n",
              " datetime.datetime(2023, 6, 1, 0, 0),\n",
              " datetime.datetime(2023, 6, 2, 0, 0),\n",
              " datetime.datetime(2023, 6, 3, 0, 0),\n",
              " datetime.datetime(2023, 6, 4, 0, 0),\n",
              " datetime.datetime(2023, 6, 5, 0, 0),\n",
              " datetime.datetime(2023, 6, 6, 0, 0),\n",
              " datetime.datetime(2023, 6, 7, 0, 0),\n",
              " datetime.datetime(2023, 6, 8, 0, 0),\n",
              " datetime.datetime(2023, 6, 9, 0, 0),\n",
              " datetime.datetime(2023, 6, 10, 0, 0),\n",
              " datetime.datetime(2023, 6, 11, 0, 0),\n",
              " datetime.datetime(2023, 6, 12, 0, 0),\n",
              " datetime.datetime(2023, 6, 13, 0, 0),\n",
              " datetime.datetime(2023, 6, 14, 0, 0),\n",
              " datetime.datetime(2023, 6, 15, 0, 0),\n",
              " datetime.datetime(2023, 6, 16, 0, 0),\n",
              " datetime.datetime(2023, 6, 17, 0, 0),\n",
              " datetime.datetime(2023, 6, 18, 0, 0),\n",
              " datetime.datetime(2023, 6, 19, 0, 0),\n",
              " datetime.datetime(2023, 6, 20, 0, 0),\n",
              " datetime.datetime(2023, 6, 21, 0, 0),\n",
              " datetime.datetime(2023, 6, 22, 0, 0),\n",
              " datetime.datetime(2023, 6, 23, 0, 0),\n",
              " datetime.datetime(2023, 6, 24, 0, 0),\n",
              " datetime.datetime(2023, 6, 25, 0, 0),\n",
              " datetime.datetime(2023, 6, 26, 0, 0),\n",
              " datetime.datetime(2023, 6, 27, 0, 0),\n",
              " datetime.datetime(2023, 6, 28, 0, 0),\n",
              " datetime.datetime(2023, 6, 29, 0, 0),\n",
              " datetime.datetime(2023, 6, 30, 0, 0),\n",
              " datetime.datetime(2023, 7, 1, 0, 0),\n",
              " datetime.datetime(2023, 7, 2, 0, 0),\n",
              " datetime.datetime(2023, 7, 3, 0, 0),\n",
              " datetime.datetime(2023, 7, 4, 0, 0),\n",
              " datetime.datetime(2023, 7, 5, 0, 0),\n",
              " datetime.datetime(2023, 7, 6, 0, 0),\n",
              " datetime.datetime(2023, 7, 7, 0, 0),\n",
              " datetime.datetime(2023, 7, 8, 0, 0),\n",
              " datetime.datetime(2023, 7, 9, 0, 0),\n",
              " datetime.datetime(2023, 7, 10, 0, 0),\n",
              " datetime.datetime(2023, 7, 11, 0, 0),\n",
              " datetime.datetime(2023, 7, 12, 0, 0),\n",
              " datetime.datetime(2023, 7, 13, 0, 0),\n",
              " datetime.datetime(2023, 7, 14, 0, 0),\n",
              " datetime.datetime(2023, 7, 15, 0, 0),\n",
              " datetime.datetime(2023, 7, 16, 0, 0),\n",
              " datetime.datetime(2023, 7, 17, 0, 0),\n",
              " datetime.datetime(2023, 7, 18, 0, 0),\n",
              " datetime.datetime(2023, 7, 19, 0, 0),\n",
              " datetime.datetime(2023, 7, 20, 0, 0),\n",
              " datetime.datetime(2023, 7, 21, 0, 0),\n",
              " datetime.datetime(2023, 7, 22, 0, 0),\n",
              " datetime.datetime(2023, 7, 23, 0, 0),\n",
              " datetime.datetime(2023, 7, 24, 0, 0),\n",
              " datetime.datetime(2023, 7, 25, 0, 0),\n",
              " datetime.datetime(2023, 7, 26, 0, 0),\n",
              " datetime.datetime(2023, 7, 27, 0, 0),\n",
              " datetime.datetime(2023, 7, 28, 0, 0),\n",
              " datetime.datetime(2023, 7, 29, 0, 0),\n",
              " datetime.datetime(2023, 7, 30, 0, 0),\n",
              " datetime.datetime(2023, 7, 31, 0, 0),\n",
              " datetime.datetime(2023, 8, 1, 0, 0),\n",
              " datetime.datetime(2023, 8, 2, 0, 0),\n",
              " datetime.datetime(2023, 8, 3, 0, 0),\n",
              " datetime.datetime(2023, 8, 4, 0, 0),\n",
              " datetime.datetime(2023, 8, 5, 0, 0),\n",
              " datetime.datetime(2023, 8, 6, 0, 0),\n",
              " datetime.datetime(2023, 8, 7, 0, 0),\n",
              " datetime.datetime(2023, 8, 8, 0, 0),\n",
              " datetime.datetime(2023, 8, 9, 0, 0),\n",
              " datetime.datetime(2023, 8, 10, 0, 0),\n",
              " datetime.datetime(2023, 8, 11, 0, 0),\n",
              " datetime.datetime(2023, 8, 12, 0, 0),\n",
              " datetime.datetime(2023, 8, 13, 0, 0),\n",
              " datetime.datetime(2023, 8, 14, 0, 0),\n",
              " datetime.datetime(2023, 8, 15, 0, 0),\n",
              " datetime.datetime(2023, 8, 16, 0, 0),\n",
              " datetime.datetime(2023, 8, 17, 0, 0),\n",
              " datetime.datetime(2023, 8, 18, 0, 0),\n",
              " datetime.datetime(2023, 8, 19, 0, 0),\n",
              " datetime.datetime(2023, 8, 20, 0, 0),\n",
              " datetime.datetime(2023, 8, 21, 0, 0),\n",
              " datetime.datetime(2023, 8, 22, 0, 0),\n",
              " datetime.datetime(2023, 8, 23, 0, 0),\n",
              " datetime.datetime(2023, 8, 24, 0, 0),\n",
              " datetime.datetime(2023, 8, 25, 0, 0),\n",
              " datetime.datetime(2023, 8, 26, 0, 0),\n",
              " datetime.datetime(2023, 8, 27, 0, 0),\n",
              " datetime.datetime(2023, 8, 28, 0, 0),\n",
              " datetime.datetime(2023, 8, 29, 0, 0),\n",
              " datetime.datetime(2023, 8, 30, 0, 0),\n",
              " datetime.datetime(2023, 8, 31, 0, 0),\n",
              " datetime.datetime(2023, 9, 1, 0, 0),\n",
              " datetime.datetime(2023, 9, 2, 0, 0),\n",
              " datetime.datetime(2023, 9, 3, 0, 0),\n",
              " datetime.datetime(2023, 9, 4, 0, 0),\n",
              " datetime.datetime(2023, 9, 5, 0, 0),\n",
              " datetime.datetime(2023, 9, 6, 0, 0),\n",
              " datetime.datetime(2023, 9, 7, 0, 0),\n",
              " datetime.datetime(2023, 9, 8, 0, 0),\n",
              " datetime.datetime(2023, 9, 9, 0, 0),\n",
              " datetime.datetime(2023, 9, 10, 0, 0),\n",
              " datetime.datetime(2023, 9, 11, 0, 0),\n",
              " datetime.datetime(2023, 9, 12, 0, 0),\n",
              " datetime.datetime(2023, 9, 13, 0, 0),\n",
              " datetime.datetime(2023, 9, 14, 0, 0),\n",
              " datetime.datetime(2023, 9, 15, 0, 0),\n",
              " datetime.datetime(2023, 9, 16, 0, 0),\n",
              " datetime.datetime(2023, 9, 17, 0, 0),\n",
              " datetime.datetime(2023, 9, 18, 0, 0),\n",
              " datetime.datetime(2023, 9, 19, 0, 0),\n",
              " datetime.datetime(2023, 9, 20, 0, 0),\n",
              " datetime.datetime(2023, 9, 21, 0, 0),\n",
              " datetime.datetime(2023, 9, 22, 0, 0),\n",
              " datetime.datetime(2023, 9, 23, 0, 0),\n",
              " datetime.datetime(2023, 9, 24, 0, 0),\n",
              " datetime.datetime(2023, 9, 25, 0, 0),\n",
              " datetime.datetime(2023, 9, 26, 0, 0),\n",
              " datetime.datetime(2023, 9, 27, 0, 0),\n",
              " datetime.datetime(2023, 9, 28, 0, 0),\n",
              " datetime.datetime(2023, 9, 29, 0, 0),\n",
              " datetime.datetime(2023, 9, 30, 0, 0),\n",
              " datetime.datetime(2023, 10, 1, 0, 0),\n",
              " datetime.datetime(2023, 10, 2, 0, 0)]"
            ]
          },
          "metadata": {},
          "execution_count": 25
        }
      ]
    },
    {
      "cell_type": "markdown",
      "source": [
        "## 10. Create 2D list to DataFrame\n",
        "\n",
        "\n",
        "\n",
        "\n",
        "\n",
        "lists = [[1, 'aaa', 22],\n",
        "         [2, 'bbb', 25],\n",
        "         [3, 'ccc', 24]]"
      ],
      "metadata": {
        "id": "ZizSetD-y5az"
      }
    },
    {
      "cell_type": "code",
      "source": [
        "lst = [[1, 'aaa', 22], [2, 'bbb', 25], [3, 'ccc', 24]]"
      ],
      "metadata": {
        "id": "_XMC8aEt0llB"
      },
      "execution_count": 26,
      "outputs": []
    },
    {
      "cell_type": "code",
      "source": [
        "df = pd.DataFrame(lst, columns =['number', 'name', 'age']) \n",
        "print(df )"
      ],
      "metadata": {
        "id": "knH76sDKYsVX",
        "colab": {
          "base_uri": "https://localhost:8080/"
        },
        "outputId": "0ed2d042-ac27-4ab6-a16e-9368d8ac7ef9"
      },
      "execution_count": 27,
      "outputs": [
        {
          "output_type": "stream",
          "name": "stdout",
          "text": [
            "   number name  age\n",
            "0       1  aaa   22\n",
            "1       2  bbb   25\n",
            "2       3  ccc   24\n"
          ]
        }
      ]
    }
  ]
}