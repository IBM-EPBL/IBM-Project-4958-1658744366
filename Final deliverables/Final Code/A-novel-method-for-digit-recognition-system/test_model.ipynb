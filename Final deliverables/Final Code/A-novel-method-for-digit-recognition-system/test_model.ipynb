{
 "cells": [
  {
   "cell_type": "code",
   "execution_count": 1,
   "id": "473ce73f",
   "metadata": {},
   "outputs": [],
   "source": [
    "#Importing the Keras libraries and packages\n",
    "from tensorflow.keras.models import load_model\n",
    "from PIL import Image #used for manipulating image uploaded by the user.\n",
    "import numpy as np #used for numerrical analysis\n",
    "model = load_model(r'C:\\Users\\Swasthi\\Documents\\mnistCNN.h5')"
   ]
  },
  {
   "cell_type": "code",
   "execution_count": 2,
   "id": "31c10244",
   "metadata": {},
   "outputs": [],
   "source": [
    "img = Image.open('data/mnist-dataset-9.png').convert(\"L\") # convert image to monochrome\n",
    "img = img.resize( (28, 28) ) # resizing of input image\n",
    "im2arr = np.array(img) #converting to image\n",
    "im2arr = im2arr.reshape(1, 28, 28, 1) #reshaping according to our requirement"
   ]
  },
  {
   "cell_type": "code",
   "execution_count": 3,
   "id": "aaf39cbe",
   "metadata": {},
   "outputs": [
    {
     "name": "stdout",
     "output_type": "stream",
     "text": [
      "1/1 [==============================] - 0s 96ms/step\n",
      "[[1.8519713e-05 2.9901419e-06 2.1298014e-09 6.3115885e-06 1.1834077e-02\n",
      "  3.0984161e-06 4.5320881e-08 1.4631233e-06 2.2773106e-06 9.8813128e-01]]\n"
     ]
    }
   ],
   "source": [
    "# Predicting the Test set results\n",
    "y_pred = model.predict(im2arr) #predicting the results\n",
    "print(y_pred)"
   ]
  },
  {
   "cell_type": "code",
   "execution_count": 4,
   "id": "b8c217ad",
   "metadata": {},
   "outputs": [
    {
     "name": "stdout",
     "output_type": "stream",
     "text": [
      "[9]\n"
     ]
    }
   ],
   "source": [
    "import numpy as np\n",
    "print(np.argmax(y_pred, axis=1)) #printing our Labels from first 4 images"
   ]
  },
  {
   "cell_type": "code",
   "execution_count": null,
   "id": "6d80de60",
   "metadata": {},
   "outputs": [],
   "source": []
  }
 ],
 "metadata": {
  "kernelspec": {
   "display_name": "Python 3 (ipykernel)",
   "language": "python",
   "name": "python3"
  },
  "language_info": {
   "codemirror_mode": {
    "name": "ipython",
    "version": 3
   },
   "file_extension": ".py",
   "mimetype": "text/x-python",
   "name": "python",
   "nbconvert_exporter": "python",
   "pygments_lexer": "ipython3",
   "version": "3.9.13"
  }
 },
 "nbformat": 4,
 "nbformat_minor": 5
}
